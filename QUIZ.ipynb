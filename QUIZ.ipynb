{
 "cells": [
  {
   "cell_type": "code",
   "execution_count": 2,
   "id": "d19a1eee-31f8-4386-a901-9311ea39d62c",
   "metadata": {},
   "outputs": [
    {
     "name": "stdout",
     "output_type": "stream",
     "text": [
      "Welcome to the Quiz System\n"
     ]
    },
    {
     "name": "stdin",
     "output_type": "stream",
     "text": [
      "1. Register\n",
      "2. Login\n",
      "3. Exit\n",
      "Select an option:  2\n",
      "Enter username:  akanksha\n",
      "Enter password:  1234\n"
     ]
    },
    {
     "name": "stdout",
     "output_type": "stream",
     "text": [
      "Login successful. Role: user\n",
      "User login successful.\n"
     ]
    },
    {
     "name": "stdin",
     "output_type": "stream",
     "text": [
      "1. Take Quiz\n",
      "2. View Results\n",
      "3. Log Out\n",
      "Select an option:  1\n"
     ]
    },
    {
     "name": "stdout",
     "output_type": "stream",
     "text": [
      "1. Python basic\n",
      "2. Aws Basic test\n",
      "3. sql test\n",
      "4. sql quiz\n"
     ]
    },
    {
     "name": "stdin",
     "output_type": "stream",
     "text": [
      "Select a quiz by ID:  4\n"
     ]
    },
    {
     "name": "stdout",
     "output_type": "stream",
     "text": [
      "SQL stands for?\n",
      "A. simple query language \n",
      "B. structured query language\n",
      "C. simple question language\n",
      "D. strucured  question language\n"
     ]
    },
    {
     "name": "stdin",
     "output_type": "stream",
     "text": [
      "Your answer (A, B, C, or D):  b\n"
     ]
    },
    {
     "name": "stdout",
     "output_type": "stream",
     "text": [
      "sql is what?\n",
      "A. query language \n",
      "B. database\n",
      "C. dataset\n",
      "D. unstructured data\n"
     ]
    },
    {
     "name": "stdin",
     "output_type": "stream",
     "text": [
      "Your answer (A, B, C, or D):  a\n"
     ]
    },
    {
     "name": "stdout",
     "output_type": "stream",
     "text": [
      "which command is used to extract data from SQL? \n",
      "A. fetch\n",
      "B. extract\n",
      "C. select\n",
      "D. delete\n"
     ]
    },
    {
     "name": "stdin",
     "output_type": "stream",
     "text": [
      "Your answer (A, B, C, or D):  c\n"
     ]
    },
    {
     "name": "stdout",
     "output_type": "stream",
     "text": [
      "which command is used  in SQL to clear rows from database without deleting tables?\n",
      "A. delete\n",
      "B. drop\n",
      "C. clear\n",
      "D. truncate\n"
     ]
    },
    {
     "name": "stdin",
     "output_type": "stream",
     "text": [
      "Your answer (A, B, C, or D):  d\n"
     ]
    },
    {
     "name": "stdout",
     "output_type": "stream",
     "text": [
      "what is the meaning of * in sql?\n",
      "A. all\n",
      "B. particular\n",
      "C. except\n",
      "D. select\n"
     ]
    },
    {
     "name": "stdin",
     "output_type": "stream",
     "text": [
      "Your answer (A, B, C, or D):  a\n"
     ]
    },
    {
     "name": "stdout",
     "output_type": "stream",
     "text": [
      "Quiz completed. Your score: 5/5\n"
     ]
    },
    {
     "name": "stdin",
     "output_type": "stream",
     "text": [
      "1. Take Quiz\n",
      "2. View Results\n",
      "3. Log Out\n",
      "Select an option:  2\n"
     ]
    },
    {
     "name": "stdout",
     "output_type": "stream",
     "text": [
      "Quiz: sql quiz, Score: 5, Date Taken: 2024-12-30 11:47:30\n"
     ]
    },
    {
     "name": "stdin",
     "output_type": "stream",
     "text": [
      "1. Take Quiz\n",
      "2. View Results\n",
      "3. Log Out\n",
      "Select an option:  2\n"
     ]
    },
    {
     "name": "stdout",
     "output_type": "stream",
     "text": [
      "Quiz: sql quiz, Score: 5, Date Taken: 2024-12-30 11:47:30\n"
     ]
    },
    {
     "name": "stdin",
     "output_type": "stream",
     "text": [
      "1. Take Quiz\n",
      "2. View Results\n",
      "3. Log Out\n",
      "Select an option:  3\n",
      "1. Register\n",
      "2. Login\n",
      "3. Exit\n",
      "Select an option:  3\n"
     ]
    },
    {
     "name": "stdout",
     "output_type": "stream",
     "text": [
      "Exiting the Quiz System.\n"
     ]
    }
   ],
   "source": [
    "import mysql.connector\n",
    "\n",
    "db = mysql.connector.connect(\n",
    "    host=\"localhost\",\n",
    "    user=\"root\",   \n",
    "    password=\"\",   \n",
    "    database=\"quiz_system\"\n",
    ")\n",
    "\n",
    "cursor = db.cursor()\n",
    "\n",
    "\n",
    "def register_user():\n",
    "    username = input(\"Enter username: \")\n",
    "    password = input(\"Enter password: \")\n",
    "    role = input(\"Enter role (user/admin): \").lower()\n",
    "    cursor.execute(\"INSERT INTO users (username, password, role) VALUES (%s, %s, %s)\", (username, password, role))\n",
    "    db.commit()\n",
    "    print(\"User registered successfully.\")\n",
    "\n",
    "\n",
    "def login_user():\n",
    "    username = input(\"Enter username: \")\n",
    "    password = input(\"Enter password: \")\n",
    "    cursor.execute(\"SELECT user_id, role FROM users WHERE username = %s AND password = %s\", (username, password))\n",
    "    user = cursor.fetchone()\n",
    "    \n",
    "    if user:\n",
    "        print(f\"Login successful. Role: {user[1]}\")\n",
    "        return user[0], user[1]  \n",
    "    else:\n",
    "        print(\"Invalid credentials.\")\n",
    "        return None, None\n",
    "\n",
    "\n",
    "def admin_create_quiz():\n",
    "    title = input(\"Enter quiz title: \")\n",
    "    cursor.execute(\"INSERT INTO quizzes (title) VALUES (%s)\", (title,))\n",
    "    db.commit()\n",
    "    quiz_id = cursor.lastrowid\n",
    "    print(\"Quiz created successfully.\")\n",
    "    add_questions_to_quiz(quiz_id)\n",
    "\n",
    "def add_questions_to_quiz(quiz_id):\n",
    "    while True:\n",
    "        question_text = input(\"Enter question text (or 'quit' to finish): \")\n",
    "        if question_text.lower() == 'quit':\n",
    "            break\n",
    "        correct_answer = input(\"Enter correct answer (A, B, C, or D): \").upper()\n",
    "        cursor.execute(\"INSERT INTO questions (quiz_id, question_text, correct_answer) VALUES (%s, %s, %s)\",\n",
    "                       (quiz_id, question_text, correct_answer))\n",
    "        db.commit()\n",
    "        question_id = cursor.lastrowid\n",
    "        for option_letter in [\"A\", \"B\", \"C\", \"D\"]:\n",
    "            option_text = input(f\"Enter option {option_letter}: \")\n",
    "            cursor.execute(\"INSERT INTO options (question_id, option_text, option_letter) VALUES (%s, %s, %s)\",\n",
    "                           (question_id, option_text, option_letter))\n",
    "            db.commit()\n",
    "\n",
    "\n",
    "def take_quiz(user_id):\n",
    "    cursor.execute(\"SELECT quiz_id, title FROM quizzes\")\n",
    "    quizzes = cursor.fetchall()\n",
    "    for quiz in quizzes:\n",
    "        print(f\"{quiz[0]}. {quiz[1]}\")\n",
    "    quiz_id = int(input(\"Select a quiz by ID: \"))\n",
    "\n",
    "    cursor.execute(\"SELECT question_id, question_text FROM questions WHERE quiz_id = %s\", (quiz_id,))\n",
    "    questions = cursor.fetchall()\n",
    "    score = 0\n",
    "\n",
    "    for question in questions:\n",
    "        question_id, question_text = question\n",
    "        print(question_text)\n",
    "        cursor.execute(\"SELECT option_letter, option_text FROM options WHERE question_id = %s\", (question_id,))\n",
    "        options = cursor.fetchall()\n",
    "        for option in options:\n",
    "            print(f\"{option[0]}. {option[1]}\")\n",
    "\n",
    "        user_answer = input(\"Your answer (A, B, C, or D): \").upper()\n",
    "        cursor.execute(\"SELECT correct_answer FROM questions WHERE question_id = %s\", (question_id,))\n",
    "        correct_answer = cursor.fetchone()[0]\n",
    "\n",
    "        if user_answer == correct_answer:\n",
    "            score += 1\n",
    "\n",
    "    cursor.execute(\"INSERT INTO results (user_id, quiz_id, score) VALUES (%s, %s, %s)\", (user_id, quiz_id, score))\n",
    "    db.commit()\n",
    "    print(f\"Quiz completed. Your score: {score}/{len(questions)}\")\n",
    "\n",
    "\n",
    "def view_results(user_id):\n",
    "    cursor.execute(\"\"\"\n",
    "        SELECT quizzes.title, results.score, results.date_taken\n",
    "        FROM results\n",
    "        JOIN quizzes ON results.quiz_id = quizzes.quiz_id\n",
    "        WHERE results.user_id = %s\n",
    "    \"\"\", (user_id,))\n",
    "    results = cursor.fetchall()\n",
    "    for result in results:\n",
    "        print(f\"Quiz: {result[0]}, Score: {result[1]}, Date Taken: {result[2]}\")\n",
    "\n",
    "def admin_menu():\n",
    "    while True:\n",
    "        admin_choice = input(\"1. Create Quiz\\n2. Log Out\\nSelect an option: \")\n",
    "        if admin_choice == '1':\n",
    "            admin_create_quiz()\n",
    "        elif admin_choice == '2':\n",
    "            break\n",
    "        else:\n",
    "            print(\"Invalid option.\")\n",
    "\n",
    "\n",
    "def user_menu(user_id):\n",
    "    while True:\n",
    "        user_choice = input(\"1. Take Quiz\\n2. View Results\\n3. Log Out\\nSelect an option: \")\n",
    "        if user_choice == '1':\n",
    "            take_quiz(user_id)\n",
    "        elif user_choice == '2':\n",
    "            view_results(user_id)\n",
    "        elif user_choice == '3':\n",
    "            break\n",
    "        else:\n",
    "            print(\"Invalid option.\")\n",
    "\n",
    "\n",
    "def main():\n",
    "    print(\"Welcome to the Quiz System\")\n",
    "    while True:\n",
    "        choice = input(\"1. Register\\n2. Login\\n3. Exit\\nSelect an option: \")\n",
    "        if choice == '1':\n",
    "            register_user()\n",
    "        elif choice == '2':\n",
    "            user_id, role = login_user()\n",
    "            if user_id:\n",
    "                if role == 'admin':\n",
    "                    print(\"Admin login successful.\")\n",
    "                    admin_menu()\n",
    "                else:\n",
    "                    print(\"User login successful.\")\n",
    "                    user_menu(user_id)\n",
    "        elif choice == '3':\n",
    "            print(\"Exiting the Quiz System.\")\n",
    "            break\n",
    "        else:\n",
    "            print(\"Invalid option.\")\n",
    "\n",
    "if __name__ == \"__main__\":\n",
    "    main()\n"
   ]
  },
  {
   "cell_type": "code",
   "execution_count": null,
   "id": "c6933054-305c-4fee-ba72-71ddc69b0dd2",
   "metadata": {},
   "outputs": [],
   "source": []
  }
 ],
 "metadata": {
  "kernelspec": {
   "display_name": "Python 3 (ipykernel)",
   "language": "python",
   "name": "python3"
  },
  "language_info": {
   "codemirror_mode": {
    "name": "ipython",
    "version": 3
   },
   "file_extension": ".py",
   "mimetype": "text/x-python",
   "name": "python",
   "nbconvert_exporter": "python",
   "pygments_lexer": "ipython3",
   "version": "3.12.6"
  }
 },
 "nbformat": 4,
 "nbformat_minor": 5
}
